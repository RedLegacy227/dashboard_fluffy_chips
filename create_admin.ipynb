{
 "cells": [
  {
   "cell_type": "code",
   "execution_count": null,
   "metadata": {},
   "outputs": [],
   "source": [
    "import bcrypt\n",
    "from database import get_users_collection\n",
    "\n",
    "# Function to hash passwords securely using bcrypt\n",
    "def hash_password(password):\n",
    "    salt = bcrypt.gensalt()\n",
    "    return bcrypt.hashpw(password.encode(), salt)\n",
    "\n",
    "# Function to add a user with a specified role\n",
    "def add_user(username, password, role):\n",
    "    users_collection = get_users_collection()\n",
    "    \n",
    "    # Hash the password\n",
    "    hashed_password = hash_password(password)\n",
    "\n",
    "    # Check if the user already exists\n",
    "    if users_collection.find_one({\"username\": username}):\n",
    "        print(f\"⚠️ User '{username}' already exists.\")\n",
    "    else:\n",
    "        users_collection.insert_one({\n",
    "            \"username\": username,\n",
    "            \"password\": hashed_password,\n",
    "            \"role\": role  # Assign the selected role\n",
    "        })\n",
    "        print(f\"✅ {role.capitalize()} user '{username}' added successfully.\")\n",
    "\n",
    "# Run the function to add a user\n",
    "if __name__ == \"__main__\":\n",
    "    username = input(\"Enter username: \")\n",
    "    password = input(\"Enter password: \")\n",
    "    role = input(\"Enter role (admin/editor/viewer): \").strip().lower()\n",
    "    \n",
    "    if role not in [\"admin\", \"editor\", \"viewer\"]:\n",
    "        print(\"❌ Invalid role! Choose between 'admin', 'editor', or 'viewer'.\")\n",
    "    else:\n",
    "        add_user(username, password, role)\n",
    "\n"
   ]
  }
 ],
 "metadata": {
  "kernelspec": {
   "display_name": ".venv",
   "language": "python",
   "name": "python3"
  },
  "language_info": {
   "name": "python",
   "version": "3.13.1"
  }
 },
 "nbformat": 4,
 "nbformat_minor": 2
}
